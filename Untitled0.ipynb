{
  "nbformat": 4,
  "nbformat_minor": 0,
  "metadata": {
    "colab": {
      "name": "Untitled0.ipynb",
      "provenance": [],
      "mount_file_id": "16W8MpUNZR9HVW1bHgaou3zhGg_h2tH51",
      "authorship_tag": "ABX9TyMtSqTx4WzGcpD1vymKAZ7b",
      "include_colab_link": true
    },
    "kernelspec": {
      "name": "python3",
      "display_name": "Python 3"
    }
  },
  "cells": [
    {
      "cell_type": "markdown",
      "metadata": {
        "id": "view-in-github",
        "colab_type": "text"
      },
      "source": [
        "<a href=\"https://colab.research.google.com/github/joromarxx/ejercicio2_clases_Java/blob/master/Untitled0.ipynb\" target=\"_parent\"><img src=\"https://colab.research.google.com/assets/colab-badge.svg\" alt=\"Open In Colab\"/></a>"
      ]
    },
    {
      "cell_type": "code",
      "metadata": {
        "id": "klp8RQ65p983",
        "colab_type": "code",
        "colab": {
          "base_uri": "https://localhost:8080/",
          "height": 445
        },
        "outputId": "ef2749e6-a5e1-484a-e196-9ca0c09c5c16"
      },
      "source": [
        "!wget --no-check-certificate \\\n",
        "   https://www.dropbox.com/s/sshnskxxolkrq9h/cats_and_dogs_small.zip?dl=0\\\n",
        "   -O /tmp/cats_and_dogs_small.zip"
      ],
      "execution_count": 2,
      "outputs": [
        {
          "output_type": "stream",
          "text": [
            "--2020-04-21 21:44:24--  https://www.dropbox.com/s/sshnskxxolkrq9h/cats_and_dogs_small.zip?dl=0\n",
            "Resolving www.dropbox.com (www.dropbox.com)... 162.125.9.1, 2620:100:601b:1::a27d:801\n",
            "Connecting to www.dropbox.com (www.dropbox.com)|162.125.9.1|:443... connected.\n",
            "HTTP request sent, awaiting response... 301 Moved Permanently\n",
            "Location: /s/raw/sshnskxxolkrq9h/cats_and_dogs_small.zip [following]\n",
            "--2020-04-21 21:44:24--  https://www.dropbox.com/s/raw/sshnskxxolkrq9h/cats_and_dogs_small.zip\n",
            "Reusing existing connection to www.dropbox.com:443.\n",
            "HTTP request sent, awaiting response... 302 Found\n",
            "Location: https://uc6f5c2cdb0e509eb1c1b8c8a476.dl.dropboxusercontent.com/cd/0/inline/A2Q8ElKk562tTNMMOvsH6XAb3m4QeVnyK7dt2UsxSYjSjXDBQ1EvBUWyXjAIyBAidusRA6dw1yjm1KDmfjom0yxfvUzh-PfbXrubyIyeXFKwEQT7tywYektX0Dm90BDQMrA/file# [following]\n",
            "--2020-04-21 21:44:24--  https://uc6f5c2cdb0e509eb1c1b8c8a476.dl.dropboxusercontent.com/cd/0/inline/A2Q8ElKk562tTNMMOvsH6XAb3m4QeVnyK7dt2UsxSYjSjXDBQ1EvBUWyXjAIyBAidusRA6dw1yjm1KDmfjom0yxfvUzh-PfbXrubyIyeXFKwEQT7tywYektX0Dm90BDQMrA/file\n",
            "Resolving uc6f5c2cdb0e509eb1c1b8c8a476.dl.dropboxusercontent.com (uc6f5c2cdb0e509eb1c1b8c8a476.dl.dropboxusercontent.com)... 162.125.8.6, 2620:100:601f:6::a27d:906\n",
            "Connecting to uc6f5c2cdb0e509eb1c1b8c8a476.dl.dropboxusercontent.com (uc6f5c2cdb0e509eb1c1b8c8a476.dl.dropboxusercontent.com)|162.125.8.6|:443... connected.\n",
            "HTTP request sent, awaiting response... 302 FOUND\n",
            "Location: /cd/0/inline2/A2TiJQ8J7HQTP7vQDJYntaVpd8OuGROgbVuBH9PVd-nnUyKRpnctXzdAnENJhJGZQPVMOEl3ReGMo999_pBie57tuM5BbnVI1ZJHO5vayeREjinYhj0-MM-T00-NO1bihcrCTmKWjmBE3ibKzd51cn086U1H2BXSx3Ol6zm_OSXefPwfi8JWxBE-51jQtnwa_f-MbiK1Wwk0d4d_DoDOS9S7QqlJSzDLopMbhUWjHm3-XbcX5QJwUW7XowQU-MwKouDoc7PfkQOW3p3JOv_dKzNBz103IydMYv2R4CeRzMz1KvgZuEtM7bL4PYliUCZoxl6V7bV2mwPVsonqFZz67PYXeHETF12auhyrsUOl-QNVVQ/file [following]\n",
            "--2020-04-21 21:44:25--  https://uc6f5c2cdb0e509eb1c1b8c8a476.dl.dropboxusercontent.com/cd/0/inline2/A2TiJQ8J7HQTP7vQDJYntaVpd8OuGROgbVuBH9PVd-nnUyKRpnctXzdAnENJhJGZQPVMOEl3ReGMo999_pBie57tuM5BbnVI1ZJHO5vayeREjinYhj0-MM-T00-NO1bihcrCTmKWjmBE3ibKzd51cn086U1H2BXSx3Ol6zm_OSXefPwfi8JWxBE-51jQtnwa_f-MbiK1Wwk0d4d_DoDOS9S7QqlJSzDLopMbhUWjHm3-XbcX5QJwUW7XowQU-MwKouDoc7PfkQOW3p3JOv_dKzNBz103IydMYv2R4CeRzMz1KvgZuEtM7bL4PYliUCZoxl6V7bV2mwPVsonqFZz67PYXeHETF12auhyrsUOl-QNVVQ/file\n",
            "Reusing existing connection to uc6f5c2cdb0e509eb1c1b8c8a476.dl.dropboxusercontent.com:443.\n",
            "HTTP request sent, awaiting response... 200 OK\n",
            "Length: 92708484 (88M) [application/zip]\n",
            "Saving to: ‘/tmp/cats_and_dogs_small.zip’\n",
            "\n",
            "/tmp/cats_and_dogs_ 100%[===================>]  88.41M  45.1MB/s    in 2.0s    \n",
            "\n",
            "2020-04-21 21:44:27 (45.1 MB/s) - ‘/tmp/cats_and_dogs_small.zip’ saved [92708484/92708484]\n",
            "\n"
          ],
          "name": "stdout"
        }
      ]
    },
    {
      "cell_type": "code",
      "metadata": {
        "id": "R0lrRPwrqT1h",
        "colab_type": "code",
        "colab": {}
      },
      "source": [
        "import os\n",
        "import zipfile\n",
        "\n",
        "local_zip = '/tmp/cats_and_dogs_small.zip'\n",
        "zip_ref = zipfile.ZipFile(local_zip, 'r')\n",
        "zip_ref.extractall('/tmp')\n",
        "zip_ref.close()"
      ],
      "execution_count": 0,
      "outputs": []
    },
    {
      "cell_type": "code",
      "metadata": {
        "id": "rZ5FNeTErkPT",
        "colab_type": "code",
        "colab": {}
      },
      "source": [
        "base_dir = '/tmp/cats_and_dogs_small'\n",
        "\n",
        "train_dir =      os.path.join(base_dir, 'train')\n",
        "validation_dir = os.path.join(base_dir, 'validation')\n",
        "test_dir =       os.path.join(base_dir, 'test')\n",
        "\n",
        "# Directorio con las imagenes de training\n",
        "train_cats_dir = os.path.join(train_dir, 'cats')\n",
        "train_dogs_dir = os.path.join(train_dir, 'dogs')\n",
        "\n",
        "# Directorio con las imagenes de validation\n",
        "validation_cats_dir = os.path.join(validation_dir, 'cats')\n",
        "validation_dogs_dir = os.path.join(validation_dir, 'dogs')\n",
        "\n",
        "# Directorio con las imagenes de test\n",
        "test_cats_dir = os.path.join(test_dir, 'cats')\n",
        "test_dogs_dir = os.path.join(test_dir, 'dogs')"
      ],
      "execution_count": 0,
      "outputs": []
    },
    {
      "cell_type": "code",
      "metadata": {
        "id": "W5qq18hJse44",
        "colab_type": "code",
        "colab": {
          "base_uri": "https://localhost:8080/",
          "height": 119
        },
        "outputId": "28a88f08-a955-4dc5-e197-2599691cb9a9"
      },
      "source": [
        "train_cat_fnames = os.listdir( train_cats_dir )\n",
        "print(train_cat_fnames[:5])\n",
        "\n",
        "train_dog_fnames = os.listdir( train_dogs_dir )\n",
        "print(train_dog_fnames[:5])\n",
        "\n",
        "validation_cat_fnames = os.listdir( validation_cats_dir )\n",
        "print(validation_cat_fnames[:5])\n",
        "\n",
        "validation_dog_fnames = os.listdir( validation_dogs_dir )\n",
        "print(validation_dog_fnames[:5])\n",
        "\n",
        "test_cat_fnames = os.listdir( test_cats_dir )\n",
        "print(test_cat_fnames[:5])\n",
        "\n",
        "test_dog_fnames = os.listdir( test_dogs_dir )\n",
        "print(test_dog_fnames[:5])"
      ],
      "execution_count": 5,
      "outputs": [
        {
          "output_type": "stream",
          "text": [
            "['cat.381.jpg', 'cat.497.jpg', 'cat.789.jpg', 'cat.533.jpg', 'cat.612.jpg']\n",
            "['dog.513.jpg', 'dog.338.jpg', 'dog.629.jpg', 'dog.44.jpg', 'dog.958.jpg']\n",
            "['cat.1240.jpg', 'cat.1410.jpg', 'cat.1263.jpg', 'cat.1159.jpg', 'cat.1444.jpg']\n",
            "['dog.1366.jpg', 'dog.1487.jpg', 'dog.1215.jpg', 'dog.1029.jpg', 'dog.1140.jpg']\n",
            "['cat.1506.jpg', 'cat.1901.jpg', 'cat.1508.jpg', 'cat.1758.jpg', 'cat.1696.jpg']\n",
            "['dog.1943.jpg', 'dog.1542.jpg', 'dog.1869.jpg', 'dog.1621.jpg', 'dog.1513.jpg']\n"
          ],
          "name": "stdout"
        }
      ]
    },
    {
      "cell_type": "code",
      "metadata": {
        "id": "4rygCV2AteY1",
        "colab_type": "code",
        "colab": {
          "base_uri": "https://localhost:8080/",
          "height": 119
        },
        "outputId": "2724d217-bd20-460f-87d2-cdbd7bd9ef00"
      },
      "source": [
        "print('total training cat images :', len(os.listdir(train_cats_dir ) ))\n",
        "print('total training dog images :', len(os.listdir(train_dogs_dir ) ))\n",
        "\n",
        "print('total validation cat images :', len(os.listdir( validation_cats_dir ) ))\n",
        "print('total validation dog images :', len(os.listdir( validation_dogs_dir ) ))\n",
        "\n",
        "print('total test cat images :', len(os.listdir( test_cats_dir ) ))\n",
        "print('total test dog images :', len(os.listdir( test_dogs_dir ) ))"
      ],
      "execution_count": 6,
      "outputs": [
        {
          "output_type": "stream",
          "text": [
            "total training cat images : 1000\n",
            "total training dog images : 1000\n",
            "total validation cat images : 500\n",
            "total validation dog images : 500\n",
            "total test cat images : 500\n",
            "total test dog images : 500\n"
          ],
          "name": "stdout"
        }
      ]
    }
  ]
}